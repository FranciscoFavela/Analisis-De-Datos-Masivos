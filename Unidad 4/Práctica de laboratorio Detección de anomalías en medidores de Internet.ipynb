{
 "cells": [
  {
   "cell_type": "markdown",
   "metadata": {},
   "source": [
    "![Imagen](itd.png)\n",
    "\n",
    "# Analisis De Datos Masivos\n",
    "## Práctica de laboratorio Detección de anomalías en medidores de Internet\n",
    "    \n",
    "## Nombre Del Docente\n",
    "### Jose Gabriel Rodriguez Rivas\n",
    "    \n",
    "## Francisco javier Favela Najera "
   ]
  },
  {
   "cell_type": "code",
   "execution_count": 1,
   "metadata": {},
   "outputs": [],
   "source": [
    "import numpy as np\n",
    "import pandas as pd"
   ]
  },
  {
   "cell_type": "code",
   "execution_count": 3,
   "metadata": {},
   "outputs": [],
   "source": [
    "df = pd.read_csv('rpi_data_processed.csv')\n",
    "\n",
    "# Initialize dataframe df_rates\n",
    "df_rates = df.drop(['Ping (ms)', 'Date', 'Time'], axis=1)\n",
    "\n",
    "# Rename the download and\n",
    "# upload columns of df_rates\n",
    "lookup = {'Download (Mbit/s)': 'download_rate', \n",
    "          'Upload (Mbit/s)': 'upload_rate'}\n",
    "df_rates = df_rates.rename(columns = lookup)\n",
    "\n",
    "# Calculate ping_rate\n",
    "ping_rate = 1. / df['Ping (ms)']\n",
    "\n",
    "# Convert ping_rate to 1/seconds\n",
    "ping_rate = 1000. * ping_rate\n",
    "\n",
    "# Add a column to complete the task\n",
    "df_rates['ping_rate'] = ping_rate"
   ]
  },
  {
   "cell_type": "code",
   "execution_count": 4,
   "metadata": {},
   "outputs": [
    {
     "data": {
      "text/html": [
       "<div>\n",
       "<style scoped>\n",
       "    .dataframe tbody tr th:only-of-type {\n",
       "        vertical-align: middle;\n",
       "    }\n",
       "\n",
       "    .dataframe tbody tr th {\n",
       "        vertical-align: top;\n",
       "    }\n",
       "\n",
       "    .dataframe thead th {\n",
       "        text-align: right;\n",
       "    }\n",
       "</style>\n",
       "<table border=\"1\" class=\"dataframe\">\n",
       "  <thead>\n",
       "    <tr style=\"text-align: right;\">\n",
       "      <th></th>\n",
       "      <th>download_rate</th>\n",
       "      <th>upload_rate</th>\n",
       "      <th>ping_rate</th>\n",
       "    </tr>\n",
       "  </thead>\n",
       "  <tbody>\n",
       "    <tr>\n",
       "      <th>count</th>\n",
       "      <td>672.000000</td>\n",
       "      <td>672.000000</td>\n",
       "      <td>672.000000</td>\n",
       "    </tr>\n",
       "    <tr>\n",
       "      <th>mean</th>\n",
       "      <td>90.456295</td>\n",
       "      <td>13.696815</td>\n",
       "      <td>48.662648</td>\n",
       "    </tr>\n",
       "    <tr>\n",
       "      <th>std</th>\n",
       "      <td>3.463351</td>\n",
       "      <td>1.081080</td>\n",
       "      <td>6.033436</td>\n",
       "    </tr>\n",
       "    <tr>\n",
       "      <th>min</th>\n",
       "      <td>58.480000</td>\n",
       "      <td>6.210000</td>\n",
       "      <td>13.067113</td>\n",
       "    </tr>\n",
       "    <tr>\n",
       "      <th>25%</th>\n",
       "      <td>90.220000</td>\n",
       "      <td>13.640000</td>\n",
       "      <td>45.792264</td>\n",
       "    </tr>\n",
       "    <tr>\n",
       "      <th>50%</th>\n",
       "      <td>91.565000</td>\n",
       "      <td>13.980000</td>\n",
       "      <td>49.212599</td>\n",
       "    </tr>\n",
       "    <tr>\n",
       "      <th>75%</th>\n",
       "      <td>92.070000</td>\n",
       "      <td>14.180000</td>\n",
       "      <td>52.319042</td>\n",
       "    </tr>\n",
       "    <tr>\n",
       "      <th>max</th>\n",
       "      <td>92.870000</td>\n",
       "      <td>14.550000</td>\n",
       "      <td>61.854395</td>\n",
       "    </tr>\n",
       "  </tbody>\n",
       "</table>\n",
       "</div>"
      ],
      "text/plain": [
       "       download_rate  upload_rate   ping_rate\n",
       "count     672.000000   672.000000  672.000000\n",
       "mean       90.456295    13.696815   48.662648\n",
       "std         3.463351     1.081080    6.033436\n",
       "min        58.480000     6.210000   13.067113\n",
       "25%        90.220000    13.640000   45.792264\n",
       "50%        91.565000    13.980000   49.212599\n",
       "75%        92.070000    14.180000   52.319042\n",
       "max        92.870000    14.550000   61.854395"
      ]
     },
     "execution_count": 4,
     "metadata": {},
     "output_type": "execute_result"
    }
   ],
   "source": [
    "df_rates.describe()"
   ]
  },
  {
   "cell_type": "code",
   "execution_count": null,
   "metadata": {},
   "outputs": [],
   "source": []
  }
 ],
 "metadata": {
  "kernelspec": {
   "display_name": "Python 3",
   "language": "python",
   "name": "python3"
  },
  "language_info": {
   "codemirror_mode": {
    "name": "ipython",
    "version": 3
   },
   "file_extension": ".py",
   "mimetype": "text/x-python",
   "name": "python",
   "nbconvert_exporter": "python",
   "pygments_lexer": "ipython3",
   "version": "3.7.3"
  }
 },
 "nbformat": 4,
 "nbformat_minor": 4
}
